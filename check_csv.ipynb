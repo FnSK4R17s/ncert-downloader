{
 "cells": [
  {
   "cell_type": "code",
   "execution_count": 1,
   "metadata": {},
   "outputs": [],
   "source": [
    "import pandas as pd"
   ]
  },
  {
   "cell_type": "code",
   "execution_count": 4,
   "metadata": {},
   "outputs": [],
   "source": [
    "df = pd.read_csv('pdf_list_cleaned.csv')"
   ]
  },
  {
   "cell_type": "code",
   "execution_count": 6,
   "metadata": {},
   "outputs": [],
   "source": [
    "df['language'] = 'English'"
   ]
  },
  {
   "cell_type": "code",
   "execution_count": 7,
   "metadata": {},
   "outputs": [
    {
     "name": "stdout",
     "output_type": "stream",
     "text": [
      "|    |   Standard | Subject                                 | File Name                                     | File Path                                              | language   |\n",
      "|---:|-----------:|:----------------------------------------|:----------------------------------------------|:-------------------------------------------------------|:-----------|\n",
      "|  0 |          6 | Mathematics                             | fecu1dd.pdf                                   | merged_pdfs\\6\\Mathematics                              | English    |\n",
      "|  1 |          6 | Science                                 | fegp1dd.pdf                                   | merged_pdfs\\6\\Science                                  | English    |\n",
      "|  2 |          6 | Social Science                          | fees1dd.pdf                                   | merged_pdfs\\6\\Social Science                           | English    |\n",
      "|  3 |          7 | Mathematics                             | Mathmatics.pdf                                | merged_pdfs\\7\\Mathematics                              | English    |\n",
      "|  4 |          7 | Science                                 | Science.pdf                                   | merged_pdfs\\7\\Science                                  | English    |\n",
      "|  5 |          7 | Social Science                          | Our Environment.pdf                           | merged_pdfs\\7\\Social Science                           | English    |\n",
      "|  6 |          7 | Social Science                          | Our Pasts-II.pdf                              | merged_pdfs\\7\\Social Science                           | English    |\n",
      "|  7 |          7 | Social Science                          | Social and Political Life.pdf                 | merged_pdfs\\7\\Social Science                           | English    |\n",
      "|  8 |          8 | Mathematics                             | Mathematics.pdf                               | merged_pdfs\\8\\Mathematics                              | English    |\n",
      "|  9 |          8 | Science                                 | Science.pdf                                   | merged_pdfs\\8\\Science                                  | English    |\n",
      "| 10 |          8 | Social Science                          | Our-Pasts-III.pdf                             | merged_pdfs\\8\\Social Science                           | English    |\n",
      "| 11 |          8 | Social Science                          | Resource And Development(Geography).pdf       | merged_pdfs\\8\\Social Science                           | English    |\n",
      "| 12 |          8 | Social Science                          | Social And Political Life.pdf                 | merged_pdfs\\8\\Social Science                           | English    |\n",
      "| 13 |          9 | ICT                                     | Information and Communication Technology.pdf  | merged_pdfs\\9\\ICT                                      | English    |\n",
      "| 14 |          9 | Mathematics                             | Mathematics.pdf                               | merged_pdfs\\9\\Mathematics                              | English    |\n",
      "| 15 |          9 | Science                                 | Science.pdf                                   | merged_pdfs\\9\\Science                                  | English    |\n",
      "| 16 |          9 | Social Science                          | Contemporary India.pdf                        | merged_pdfs\\9\\Social Science                           | English    |\n",
      "| 17 |          9 | Social Science                          | Democratic Politics.pdf                       | merged_pdfs\\9\\Social Science                           | English    |\n",
      "| 18 |          9 | Social Science                          | Economics.pdf                                 | merged_pdfs\\9\\Social Science                           | English    |\n",
      "| 19 |          9 | Social Science                          | India and the Contemporary World-I.pdf        | merged_pdfs\\9\\Social Science                           | English    |\n",
      "| 20 |         10 | Mathematics                             | Mathematics.pdf                               | merged_pdfs\\10\\Mathematics                             | English    |\n",
      "| 21 |         10 | Science                                 | Science.pdf                                   | merged_pdfs\\10\\Science                                 | English    |\n",
      "| 22 |         10 | Social Science                          | Contemporary India.pdf                        | merged_pdfs\\10\\Social Science                          | English    |\n",
      "| 23 |         10 | Social Science                          | Democratic Politics.pdf                       | merged_pdfs\\10\\Social Science                          | English    |\n",
      "| 24 |         10 | Social Science                          | India and the Contemporary World-II.pdf       | merged_pdfs\\10\\Social Science                          | English    |\n",
      "| 25 |         10 | Social Science                          | Understanding Economic Development.pdf        | merged_pdfs\\10\\Social Science                          | English    |\n",
      "| 26 |         11 | Accountancy                             | Accountancy-II.pdf                            | merged_pdfs\\11\\Accountancy                             | English    |\n",
      "| 27 |         11 | Accountancy                             | Financial Accounting-I.pdf                    | merged_pdfs\\11\\Accountancy                             | English    |\n",
      "| 28 |         11 | Biology                                 | Biology.pdf                                   | merged_pdfs\\11\\Biology                                 | English    |\n",
      "| 29 |         11 | Biotechnology                           | Biotechnology.pdf                             | merged_pdfs\\11\\Biotechnology                           | English    |\n",
      "| 30 |         11 | Business Studies                        | Business Studies.pdf                          | merged_pdfs\\11\\Business Studies                        | English    |\n",
      "| 31 |         11 | Chemistry                               | Chemistry Part II.pdf                         | merged_pdfs\\11\\Chemistry                               | English    |\n",
      "| 32 |         11 | Chemistry                               | Chemistry Part-I.pdf                          | merged_pdfs\\11\\Chemistry                               | English    |\n",
      "| 33 |         11 | Computer Science                        | Computer Science.pdf                          | merged_pdfs\\11\\Computer Science                        | English    |\n",
      "| 34 |         11 | Economics                               | Indian Economic Development.pdf               | merged_pdfs\\11\\Economics                               | English    |\n",
      "| 35 |         11 | Economics                               | Statistics for Economics.pdf                  | merged_pdfs\\11\\Economics                               | English    |\n",
      "| 36 |         11 | Fine Art                                | An Introduction to Indian Art Part-I.pdf      | merged_pdfs\\11\\Fine Art                                | English    |\n",
      "| 37 |         11 | Geography                               | Fundamental of Physical Geography.pdf         | merged_pdfs\\11\\Geography                               | English    |\n",
      "| 38 |         11 | Geography                               | India Physical Environment.pdf                | merged_pdfs\\11\\Geography                               | English    |\n",
      "| 39 |         11 | Geography                               | Pratical Work in Geography.pdf                | merged_pdfs\\11\\Geography                               | English    |\n",
      "| 40 |         11 | Heritage Crafts                         | Hindustan me Dastkari Ki Riwayat.pdf          | merged_pdfs\\11\\Heritage Crafts                         | English    |\n",
      "| 41 |         11 | History                                 | Themes in World History.pdf                   | merged_pdfs\\11\\History                                 | English    |\n",
      "| 42 |         11 | Home Science                            | Human Ecology and Family Sciences Part I.pdf  | merged_pdfs\\11\\Home Science                            | English    |\n",
      "| 43 |         11 | Home Science                            | Human Ecology and Family Sciences Part II.pdf | merged_pdfs\\11\\Home Science                            | English    |\n",
      "| 44 |         11 | Informatics Practices                   | Informatics Practices.pdf                     | merged_pdfs\\11\\Informatics Practices                   | English    |\n",
      "| 45 |         11 | Knowledge Traditions Practices of India | Knowledge Traditions Practices of India.pdf   | merged_pdfs\\11\\Knowledge Traditions Practices of India | English    |\n",
      "| 46 |         11 | Mathematics                             | Mathematics.pdf                               | merged_pdfs\\11\\Mathematics                             | English    |\n",
      "| 47 |         11 | Physics                                 | Physics Part-I.pdf                            | merged_pdfs\\11\\Physics                                 | English    |\n",
      "| 48 |         11 | Physics                                 | Physics Part-II.pdf                           | merged_pdfs\\11\\Physics                                 | English    |\n",
      "| 49 |         11 | Political Science                       | India Constitution at Work.pdf                | merged_pdfs\\11\\Political Science                       | English    |\n",
      "| 50 |         11 | Political Science                       | Political Theory.pdf                          | merged_pdfs\\11\\Political Science                       | English    |\n",
      "| 51 |         11 | Psychology                              | Introduction to Psychology.pdf                | merged_pdfs\\11\\Psychology                              | English    |\n",
      "| 52 |         11 | Sociology                               | Introducing Sociology.pdf                     | merged_pdfs\\11\\Sociology                               | English    |\n",
      "| 53 |         11 | Sociology                               | Understanding Society.pdf                     | merged_pdfs\\11\\Sociology                               | English    |\n",
      "| 54 |         12 | Accountancy                             | Accountancy Part-II.pdf                       | merged_pdfs\\12\\Accountancy                             | English    |\n",
      "| 55 |         12 | Accountancy                             | Accountancy-I.pdf                             | merged_pdfs\\12\\Accountancy                             | English    |\n",
      "| 56 |         12 | Accountancy                             | Computerised Accounting System.pdf            | merged_pdfs\\12\\Accountancy                             | English    |\n",
      "| 57 |         12 | Biology                                 | Biology.pdf                                   | merged_pdfs\\12\\Biology                                 | English    |\n",
      "| 58 |         12 | Business Studies                        | Business Studies-I.pdf                        | merged_pdfs\\12\\Business Studies                        | English    |\n",
      "| 59 |         12 | Business Studies                        | Business Studies-II.pdf                       | merged_pdfs\\12\\Business Studies                        | English    |\n",
      "| 60 |         12 | Chemistry                               | Chemistry-I.pdf                               | merged_pdfs\\12\\Chemistry                               | English    |\n",
      "| 61 |         12 | Chemistry                               | Chemistry-II.pdf                              | merged_pdfs\\12\\Chemistry                               | English    |\n",
      "| 62 |         12 | Computer Science                        | Computer Science.pdf                          | merged_pdfs\\12\\Computer Science                        | English    |\n",
      "| 63 |         12 | Economics                               | Introductory Macroeconomics.pdf               | merged_pdfs\\12\\Economics                               | English    |\n",
      "| 64 |         12 | Economics                               | Introductory Microeconomics.pdf               | merged_pdfs\\12\\Economics                               | English    |\n",
      "| 65 |         12 | Fine Art                                | An Introduction to Indian Art Part-II.pdf     | merged_pdfs\\12\\Fine Art                                | English    |\n",
      "| 66 |         12 | Geography                               | Fundamentals of Human Geography.pdf           | merged_pdfs\\12\\Geography                               | English    |\n",
      "| 67 |         12 | Geography                               | India -People And Economy.pdf                 | merged_pdfs\\12\\Geography                               | English    |\n",
      "| 68 |         12 | Geography                               | Practical Work in Geography Part II.pdf       | merged_pdfs\\12\\Geography                               | English    |\n",
      "| 69 |         12 | Heritage Crafts                         | Craft Tradition of India.pdf                  | merged_pdfs\\12\\Heritage Crafts                         | English    |\n",
      "| 70 |         12 | History                                 | Themes in Indian History-I.pdf                | merged_pdfs\\12\\History                                 | English    |\n",
      "| 71 |         12 | History                                 | Themes in Indian History-II.pdf               | merged_pdfs\\12\\History                                 | English    |\n",
      "| 72 |         12 | History                                 | Themes in Indian History-III.pdf              | merged_pdfs\\12\\History                                 | English    |\n",
      "| 73 |         12 | Home Science                            | Human Ecology and Family Sciences Part I.pdf  | merged_pdfs\\12\\Home Science                            | English    |\n",
      "| 74 |         12 | Home Science                            | Human Ecology and Family Sciences Part II.pdf | merged_pdfs\\12\\Home Science                            | English    |\n",
      "| 75 |         12 | Informatics Practices                   | Informatics Practices.pdf                     | merged_pdfs\\12\\Informatics Practices                   | English    |\n",
      "| 76 |         12 | Mathematics                             | Mathematics Part-I.pdf                        | merged_pdfs\\12\\Mathematics                             | English    |\n",
      "| 77 |         12 | Mathematics                             | Mathematics Part-II.pdf                       | merged_pdfs\\12\\Mathematics                             | English    |\n",
      "| 78 |         12 | Physics                                 | Physics Part-I.pdf                            | merged_pdfs\\12\\Physics                                 | English    |\n",
      "| 79 |         12 | Physics                                 | Physics Part-II.pdf                           | merged_pdfs\\12\\Physics                                 | English    |\n",
      "| 80 |         12 | Political Science                       | Contemporary World Politics.pdf               | merged_pdfs\\12\\Political Science                       | English    |\n",
      "| 81 |         12 | Political Science                       | Politics in India Since Independence.pdf      | merged_pdfs\\12\\Political Science                       | English    |\n",
      "| 82 |         12 | Psychology                              | Psychology.pdf                                | merged_pdfs\\12\\Psychology                              | English    |\n",
      "| 83 |         12 | Sociology                               | Indian Society.pdf                            | merged_pdfs\\12\\Sociology                               | English    |\n",
      "| 84 |         12 | Sociology                               | Social Change and Development in India.pdf    | merged_pdfs\\12\\Sociology                               | English    |\n",
      "| 85 |         13 | Heritage Crafts                         | Bhartiya Hastkala Parmparaon ki Khoj.pdf      | merged_pdfs\\13\\Heritage Crafts                         | English    |\n"
     ]
    }
   ],
   "source": [
    "print(df.to_markdown())"
   ]
  },
  {
   "cell_type": "code",
   "execution_count": 8,
   "metadata": {},
   "outputs": [],
   "source": [
    "df.to_csv('pdf_list_cleaned.csv', index=False)"
   ]
  },
  {
   "cell_type": "code",
   "execution_count": null,
   "metadata": {},
   "outputs": [],
   "source": []
  }
 ],
 "metadata": {
  "kernelspec": {
   "display_name": "venv",
   "language": "python",
   "name": "python3"
  },
  "language_info": {
   "codemirror_mode": {
    "name": "ipython",
    "version": 3
   },
   "file_extension": ".py",
   "mimetype": "text/x-python",
   "name": "python",
   "nbconvert_exporter": "python",
   "pygments_lexer": "ipython3",
   "version": "3.12.8"
  }
 },
 "nbformat": 4,
 "nbformat_minor": 2
}
